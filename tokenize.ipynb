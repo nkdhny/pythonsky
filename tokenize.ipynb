{
 "cells": [
  {
   "cell_type": "code",
   "execution_count": 2,
   "metadata": {
    "collapsed": false
   },
   "outputs": [],
   "source": [
    "import nltk\n",
    "from nltk.util import trigrams\n",
    "from nltk.util import bigrams\n",
    "import pandas as pd\n",
    "%matplotlib inline\n",
    "tokenizer = nltk.data.load('tokenizers/punkt/english.pickle')"
   ]
  },
  {
   "cell_type": "code",
   "execution_count": 3,
   "metadata": {
    "collapsed": false
   },
   "outputs": [],
   "source": [
    "text = file('./corpus/asimov/Asimov\\'s Mysteries - Isaac Asimov.txt').read()\n",
    "text = text.decode('utf8')"
   ]
  },
  {
   "cell_type": "code",
   "execution_count": 4,
   "metadata": {
    "collapsed": false
   },
   "outputs": [],
   "source": [
    "tokens = nltk.word_tokenize(text)"
   ]
  },
  {
   "cell_type": "code",
   "execution_count": 5,
   "metadata": {
    "collapsed": false
   },
   "outputs": [],
   "source": [
    "trigrams_pd = nltk.ConditionalProbDist(nltk.ConditionalFreqDist([(t[:2], t[2]) for t in trigrams(tokens)]), nltk.probability.ELEProbDist)\n",
    "bigrams_pd = nltk.ConditionalProbDist(nltk.ConditionalFreqDist([(t[:1], t[1]) for t in bigrams(tokens)]), nltk.probability.ELEProbDist)"
   ]
  },
  {
   "cell_type": "code",
   "execution_count": 8,
   "metadata": {
    "collapsed": false
   },
   "outputs": [
    {
     "data": {
      "text/plain": [
       "u'to'"
      ]
     },
     "execution_count": 8,
     "metadata": {},
     "output_type": "execute_result"
    }
   ],
   "source": [
    "trigrams_pd[(u'to', u'listen')].generate()"
   ]
  },
  {
   "cell_type": "code",
   "execution_count": 3,
   "metadata": {
    "collapsed": true
   },
   "outputs": [],
   "source": [
    "tt = tokenizer.tokenize(text)"
   ]
  },
  {
   "cell_type": "code",
   "execution_count": 4,
   "metadata": {
    "collapsed": false
   },
   "outputs": [],
   "source": [
    "ttt = nltk.tokenize.PunktSentenceTokenizer(text)"
   ]
  },
  {
   "cell_type": "code",
   "execution_count": 5,
   "metadata": {
    "collapsed": false
   },
   "outputs": [],
   "source": [
    "tttt = ttt.tokenize(text)"
   ]
  },
  {
   "cell_type": "code",
   "execution_count": 6,
   "metadata": {
    "collapsed": false
   },
   "outputs": [
    {
     "data": {
      "text/plain": [
       "[u\"Asimov's Mysteries\\n\\n\\n\\n\\n\\nBook Jacket\\n\\n\\n\\n\\n\\n'\\n\\nISAAC ASIMOV\\n\\nMYSTERIES\\n\\nIntroduction\\n\\nThere is a tendency for many people who don't know any better to classify science fiction as just one more member of the group of specialized literatures that include mysteries, westerns, adventures, sports stories, love stories, and so on.\",\n",
       " u'This has always seemed odd to those who know science fiction well, for s.f. is a literary response to scientific change, and that response can run the entire gamut of the human experience.',\n",
       " u'Science fiction, in other words, includes everything.',\n",
       " u'How does one differentiate between a science fiction story and an adventure story, for instance, when so much s.f. is so intensely adventurous as to leave the ordinary stories of the type rather pale ?',\n",
       " u'Surely a trip to the moon is first of all an adventure of the most thrilling kind, whatever else it is.',\n",
       " u'I have seen excellent science fiction stories that fall into unusual classifications and bring great enrichment to what it had touched.',\n",
       " u\"Arthur C. Clarke wrote a delightful 'western' \\u2014but it took place under the sea, and it had dolphins in place of cattle.\",\n",
       " u\"Its name was 'Home on the Range,' however, and it fitted.\",\n",
       " u\"Clifford D. Simak wrote 'Rule 18' which is a pure sports story, but one that involved time-travel, so that the coach of Earth's team could collect all-time greats with whom to win the annual game with Mars.\",\n",
       " u\"In 'The Lovers,' Philip Jose Farmer struck a telling variation on ordinary romance by writing a sober and moving tale of love that crossed the boundary line, not of religion or color, but of species.\"]"
      ]
     },
     "execution_count": 6,
     "metadata": {},
     "output_type": "execute_result"
    }
   ],
   "source": [
    "tttt[:10]"
   ]
  },
  {
   "cell_type": "code",
   "execution_count": 36,
   "metadata": {
    "collapsed": false
   },
   "outputs": [
    {
     "data": {
      "text/plain": [
       "[[u\"Asimov's Mysteries\\n\\n\\n\\n\\n\\nBook Jacket\\n\\n\\n\\n\\n\\n'\\n\\nISAAC ASIMOV\\n\\nMYSTERIES\\n\\nIntroduction\\n\\nThere is a tendency for many people who don't know any better to classify science fiction as just one more member of the group of specialized literatures that include mysteries, westerns, adventures, sports stories, love stories, and so on.\"],\n",
       " [u'This has always seemed odd to those who know science fiction well, for s.f. is a literary response to scientific change, and that response can run the entire gamut of the human experience.'],\n",
       " [u'Science fiction, in other words, includes everything.'],\n",
       " [u'How does one differentiate between a science fiction story and an adventure story, for instance, when so much s.f. is so intensely adventurous as to leave the ordinary stories of the type rather pale ?'],\n",
       " [u'Surely a trip to the moon is first of all an adventure of the most thrilling kind, whatever else it is.'],\n",
       " [u'I have seen excellent science fiction stories that fall into unusual classifications and bring great enrichment to what it had touched.'],\n",
       " [u\"Arthur C. Clarke wrote a delightful 'western' \\u2014but it took place under the sea, and it had dolphins in place of cattle.\"],\n",
       " [u\"Its name was 'Home on the Range,' however, and it fitted.\"],\n",
       " [u\"Clifford D. Simak wrote 'Rule 18' which is a pure sports story, but one that involved time-travel, so that the coach of Earth's team could collect all-time greats with whom to win the annual game with Mars.\"],\n",
       " [u\"In 'The Lovers,' Philip Jose Farmer struck a telling variation on ordinary romance by writing a sober and moving tale of love that crossed the boundary line, not of religion or color, but of species.\"]]"
      ]
     },
     "execution_count": 36,
     "metadata": {},
     "output_type": "execute_result"
    }
   ],
   "source": [
    "sents"
   ]
  }
 ],
 "metadata": {
  "kernelspec": {
   "display_name": "Python 2",
   "language": "python",
   "name": "python2"
  },
  "language_info": {
   "codemirror_mode": {
    "name": "ipython",
    "version": 2
   },
   "file_extension": ".py",
   "mimetype": "text/x-python",
   "name": "python",
   "nbconvert_exporter": "python",
   "pygments_lexer": "ipython2",
   "version": "2.7.9"
  }
 },
 "nbformat": 4,
 "nbformat_minor": 0
}
